{
  "nbformat": 4,
  "nbformat_minor": 0,
  "metadata": {
    "colab": {
      "provenance": []
    },
    "kernelspec": {
      "name": "python3",
      "display_name": "Python 3"
    },
    "language_info": {
      "name": "python"
    }
  },
  "cells": [
    {
      "cell_type": "code",
      "execution_count": null,
      "metadata": {
        "colab": {
          "base_uri": "https://localhost:8080/"
        },
        "id": "3Sd9ZcGEmYH8",
        "outputId": "d766fbc0-7594-4f31-8241-943a22bcc38c"
      },
      "outputs": [
        {
          "output_type": "stream",
          "name": "stdout",
          "text": [
            "RMSE: 1561.3822682990528\n",
            "R² Score: -1.344806245566525\n"
          ]
        },
        {
          "output_type": "stream",
          "name": "stderr",
          "text": [
            "/usr/local/lib/python3.11/dist-packages/sklearn/neural_network/_multilayer_perceptron.py:691: ConvergenceWarning: Stochastic Optimizer: Maximum iterations (436) reached and the optimization hasn't converged yet.\n",
            "  warnings.warn(\n"
          ]
        }
      ],
      "source": [
        "# Import necessary libraries\n",
        "import pandas as pd\n",
        "import numpy as np\n",
        "from sklearn.model_selection import train_test_split\n",
        "from sklearn.preprocessing import OneHotEncoder, StandardScaler\n",
        "from sklearn.neural_network import MLPRegressor\n",
        "from sklearn.metrics import mean_squared_error, r2_score\n",
        "\n",
        "# Load the dataset\n",
        "file_path = \"Carbon Emission.csv\"  # Update path if needed\n",
        "df = pd.read_csv(file_path)\n",
        "\n",
        "# Define features (X) and target variable (y)\n",
        "X = df.drop(columns=[\"CarbonEmission\"])\n",
        "y = df[\"CarbonEmission\"]\n",
        "\n",
        "# Identify categorical and numerical columns\n",
        "categorical_cols = X.select_dtypes(include=[\"object\"]).columns\n",
        "numerical_cols = X.select_dtypes(include=[\"int64\", \"float64\"]).columns\n",
        "\n",
        "# Fill missing categorical values with mode (most frequent value)\n",
        "for col in categorical_cols:\n",
        "    X[col] = X[col].fillna(X[col].mode()[0])  # Fix for Pandas warning\n",
        "\n",
        "# One-hot encode categorical variables\n",
        "encoder = OneHotEncoder(handle_unknown=\"ignore\", sparse_output=False)  # Fix for OneHotEncoder\n",
        "X_encoded = encoder.fit_transform(X[categorical_cols])\n",
        "\n",
        "# Convert to DataFrame\n",
        "X_encoded_df = pd.DataFrame(X_encoded, columns=encoder.get_feature_names_out())\n",
        "\n",
        "# Reset index to align numerical and encoded data before concatenation\n",
        "X_numerical = X[numerical_cols].reset_index(drop=True)\n",
        "X_encoded_df = X_encoded_df.reset_index(drop=True)\n",
        "\n",
        "# Combine numerical and encoded categorical data\n",
        "X_final = pd.concat([X_numerical, X_encoded_df], axis=1)\n",
        "\n",
        "# Standardize the data for Neural Network training\n",
        "scaler = StandardScaler()\n",
        "X_scaled = scaler.fit_transform(X_final)\n",
        "\n",
        "# Split into 80% train and 20% test sets\n",
        "X_train, X_test, y_train, y_test = train_test_split(X_scaled, y, test_size=0.2, random_state=42)\n",
        "\n",
        "# Initialize Neural Network Regressor\n",
        "mlp = MLPRegressor(hidden_layer_sizes=(64, 128, 64), activation='tanh', max_iter=436, random_state=42)\n",
        "\n",
        "# Train the model\n",
        "mlp.fit(X_train, y_train)\n",
        "\n",
        "# Predict on test data\n",
        "y_pred_nn = mlp.predict(X_test)\n",
        "\n",
        "# Calculate RMSE and R² Score\n",
        "rmse_nn = np.sqrt(mean_squared_error(y_test, y_pred_nn))\n",
        "r2_nn = r2_score(y_test, y_pred_nn)\n",
        "\n",
        "# Print evaluation metrics\n",
        "print(f\"RMSE: {rmse_nn}\")\n",
        "print(f\"R² Score: {r2_nn}\")\n"
      ]
    },
    {
      "cell_type": "code",
      "source": [],
      "metadata": {
        "id": "TUSU6FZbmmhH"
      },
      "execution_count": null,
      "outputs": []
    }
  ]
}